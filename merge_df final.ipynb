{
 "cells": [
  {
   "cell_type": "code",
   "execution_count": 1,
   "metadata": {},
   "outputs": [],
   "source": [
    "\"\"\" Basic preprocessing\"\"\"\n",
    "import numpy as np\n",
    "import pandas as pd\n",
    "import datetime\n",
    "import re\n",
    "\n",
    "\"\"\" Sentiment analysis \"\"\"\n",
    "from vaderSentiment.vaderSentiment import SentimentIntensityAnalyzer\n",
    "analyser = SentimentIntensityAnalyzer()\n"
   ]
  },
  {
   "cell_type": "code",
   "execution_count": 2,
   "metadata": {},
   "outputs": [],
   "source": [
    "df = pd.read_csv('btc_bitcoin.csv')\n",
    "df_april = pd.read_csv('btc_data_2022_val.csv')\n",
    "df_2021 = pd.read_csv('btc_data_2021_2022.csv')"
   ]
  },
  {
   "cell_type": "code",
   "execution_count": 3,
   "metadata": {},
   "outputs": [
    {
     "data": {
      "text/html": [
       "<div>\n",
       "<style scoped>\n",
       "    .dataframe tbody tr th:only-of-type {\n",
       "        vertical-align: middle;\n",
       "    }\n",
       "\n",
       "    .dataframe tbody tr th {\n",
       "        vertical-align: top;\n",
       "    }\n",
       "\n",
       "    .dataframe thead th {\n",
       "        text-align: right;\n",
       "    }\n",
       "</style>\n",
       "<table border=\"1\" class=\"dataframe\">\n",
       "  <thead>\n",
       "    <tr style=\"text-align: right;\">\n",
       "      <th></th>\n",
       "      <th>Unnamed: 0</th>\n",
       "      <th>author_id</th>\n",
       "      <th>username</th>\n",
       "      <th>author_followers</th>\n",
       "      <th>author_tweets</th>\n",
       "      <th>author_description</th>\n",
       "      <th>author_location</th>\n",
       "      <th>text</th>\n",
       "      <th>created_at</th>\n",
       "      <th>retweets</th>\n",
       "      <th>replies</th>\n",
       "      <th>likes</th>\n",
       "      <th>quote_count</th>\n",
       "    </tr>\n",
       "  </thead>\n",
       "  <tbody>\n",
       "    <tr>\n",
       "      <th>0</th>\n",
       "      <td>0</td>\n",
       "      <td>1460249327394164739</td>\n",
       "      <td>devvaaaaaaa</td>\n",
       "      <td>10</td>\n",
       "      <td>664</td>\n",
       "      <td>ᖴᖇᝪᗰ Ꭲᕼᗴ ᗴᗩᔑᎢ ᑕᝪᗩᔑᎢ, しᏆᐯᗴ ᗷᎩ ᗴ᙭ᗩᗰᑭしᗴ, ᑕᝪᑎᔑᗴᖇᐯᗩ...</td>\n",
       "      <td>NaN</td>\n",
       "      <td>Want to wake up in the morning without financi...</td>\n",
       "      <td>2022-04-20 23:59:55+00:00</td>\n",
       "      <td>12</td>\n",
       "      <td>1</td>\n",
       "      <td>18</td>\n",
       "      <td>0</td>\n",
       "    </tr>\n",
       "    <tr>\n",
       "      <th>1</th>\n",
       "      <td>1</td>\n",
       "      <td>1501922448324927500</td>\n",
       "      <td>LivePriceCrypto</td>\n",
       "      <td>1272</td>\n",
       "      <td>67379</td>\n",
       "      <td>I Tweet the latest #Bitcoin &amp; #Ethereum price ...</td>\n",
       "      <td>NaN</td>\n",
       "      <td>#Bitcoin Last Price $41368 #BTC 🚀\\nDaily Indic...</td>\n",
       "      <td>2022-04-20 23:59:52+00:00</td>\n",
       "      <td>0</td>\n",
       "      <td>0</td>\n",
       "      <td>0</td>\n",
       "      <td>0</td>\n",
       "    </tr>\n",
       "    <tr>\n",
       "      <th>2</th>\n",
       "      <td>2</td>\n",
       "      <td>1502555711460495362</td>\n",
       "      <td>theashleepage11</td>\n",
       "      <td>330</td>\n",
       "      <td>762</td>\n",
       "      <td>Deep Value Investor . . . 📄📑📉👩‍💻 NFTs Advocate...</td>\n",
       "      <td>Ocean city</td>\n",
       "      <td>Give a man #bitcoin and he trades it.  Teach a...</td>\n",
       "      <td>2022-04-20 23:59:52+00:00</td>\n",
       "      <td>0</td>\n",
       "      <td>0</td>\n",
       "      <td>3</td>\n",
       "      <td>0</td>\n",
       "    </tr>\n",
       "    <tr>\n",
       "      <th>3</th>\n",
       "      <td>3</td>\n",
       "      <td>1502555711460495362</td>\n",
       "      <td>theashleepage11</td>\n",
       "      <td>330</td>\n",
       "      <td>762</td>\n",
       "      <td>Deep Value Investor . . . 📄📑📉👩‍💻 NFTs Advocate...</td>\n",
       "      <td>Ocean city</td>\n",
       "      <td>If you think there is a point where bitcoin is...</td>\n",
       "      <td>2022-04-20 23:59:48+00:00</td>\n",
       "      <td>0</td>\n",
       "      <td>1</td>\n",
       "      <td>4</td>\n",
       "      <td>0</td>\n",
       "    </tr>\n",
       "    <tr>\n",
       "      <th>4</th>\n",
       "      <td>4</td>\n",
       "      <td>771448125651247104</td>\n",
       "      <td>SkylerColbert</td>\n",
       "      <td>1872</td>\n",
       "      <td>1039</td>\n",
       "      <td>Community Builder | Accumulating &amp; Busy @ @Luv...</td>\n",
       "      <td>Costa Mesa, CA</td>\n",
       "      <td>A lot of people are unaware of how early we al...</td>\n",
       "      <td>2022-04-20 23:59:46+00:00</td>\n",
       "      <td>4</td>\n",
       "      <td>2</td>\n",
       "      <td>12</td>\n",
       "      <td>0</td>\n",
       "    </tr>\n",
       "  </tbody>\n",
       "</table>\n",
       "</div>"
      ],
      "text/plain": [
       "   Unnamed: 0            author_id         username  author_followers  \\\n",
       "0           0  1460249327394164739      devvaaaaaaa                10   \n",
       "1           1  1501922448324927500  LivePriceCrypto              1272   \n",
       "2           2  1502555711460495362  theashleepage11               330   \n",
       "3           3  1502555711460495362  theashleepage11               330   \n",
       "4           4   771448125651247104    SkylerColbert              1872   \n",
       "\n",
       "   author_tweets                                 author_description  \\\n",
       "0            664  ᖴᖇᝪᗰ Ꭲᕼᗴ ᗴᗩᔑᎢ ᑕᝪᗩᔑᎢ, しᏆᐯᗴ ᗷᎩ ᗴ᙭ᗩᗰᑭしᗴ, ᑕᝪᑎᔑᗴᖇᐯᗩ...   \n",
       "1          67379  I Tweet the latest #Bitcoin & #Ethereum price ...   \n",
       "2            762  Deep Value Investor . . . 📄📑📉👩‍💻 NFTs Advocate...   \n",
       "3            762  Deep Value Investor . . . 📄📑📉👩‍💻 NFTs Advocate...   \n",
       "4           1039  Community Builder | Accumulating & Busy @ @Luv...   \n",
       "\n",
       "  author_location                                               text  \\\n",
       "0             NaN  Want to wake up in the morning without financi...   \n",
       "1             NaN  #Bitcoin Last Price $41368 #BTC 🚀\\nDaily Indic...   \n",
       "2     Ocean city   Give a man #bitcoin and he trades it.  Teach a...   \n",
       "3     Ocean city   If you think there is a point where bitcoin is...   \n",
       "4  Costa Mesa, CA  A lot of people are unaware of how early we al...   \n",
       "\n",
       "                  created_at  retweets  replies  likes  quote_count  \n",
       "0  2022-04-20 23:59:55+00:00        12        1     18            0  \n",
       "1  2022-04-20 23:59:52+00:00         0        0      0            0  \n",
       "2  2022-04-20 23:59:52+00:00         0        0      3            0  \n",
       "3  2022-04-20 23:59:48+00:00         0        1      4            0  \n",
       "4  2022-04-20 23:59:46+00:00         4        2     12            0  "
      ]
     },
     "execution_count": 3,
     "metadata": {},
     "output_type": "execute_result"
    }
   ],
   "source": [
    "frame = [df_april, df, df_2021]\n",
    "df_btc = pd.concat(frame)\n",
    "df_btc.head()"
   ]
  },
  {
   "cell_type": "code",
   "execution_count": 4,
   "metadata": {},
   "outputs": [],
   "source": [
    "def derive_statistics(df):\n",
    "    hashtag = df['text'].apply(lambda x: re.findall(r'#(\\w+)', x))\n",
    "    df['count_hashtag'] = hashtag.apply(lambda x: len(x))\n",
    "    percentile = np.percentile(df['count_hashtag'], 95)\n",
    "\n",
    "    print(f'Two stds from mean hashtag: {percentile}')\n",
    "\n",
    "    dollar = df['text'].apply(lambda x: re.findall(r'(?<=\\s)\\$\\w+', x))\n",
    "    df['count_dollar'] = dollar.apply(lambda x: len(x))\n",
    "    percentile = np.percentile(df['count_dollar'], 95)\n",
    "    \n",
    "    print(f'Two stds from mean dollar_sign: {percentile}')  \n",
    "\n",
    "    accounts = df['username'].value_counts()\n",
    "    percentile = np.percentile(accounts, 99)\n",
    "\n",
    "    print(f'max allowed tweets per account: {percentile}')\n",
    "\n"
   ]
  },
  {
   "cell_type": "code",
   "execution_count": 5,
   "metadata": {},
   "outputs": [
    {
     "name": "stdout",
     "output_type": "stream",
     "text": [
      "Two stds from mean hashtag: 11.0\n",
      "Two stds from mean dollar_sign: 7.0\n",
      "max allowed tweets per account: 79.0\n"
     ]
    }
   ],
   "source": [
    "derive_statistics(df_btc)"
   ]
  },
  {
   "cell_type": "code",
   "execution_count": 6,
   "metadata": {},
   "outputs": [],
   "source": [
    "\"\"\" Criteria for spam\"\"\"\n",
    "spam_words = ['giveaway', 'giveaways', 'give away', 'give aways', 'airdrop', 'airdrops'] \n",
    "\n",
    "bots = ['pump', 'register', 'join', 'retweet', 'retweets']\n",
    "\n",
    "username_includes = 'bot'\n",
    "\n",
    "max_followers = 100\n",
    "\n",
    "max_hashtag = 11\n",
    "\n",
    "max_dollar_sign = 7\n",
    "\n",
    "max_tweets_account = 79\n"
   ]
  },
  {
   "cell_type": "code",
   "execution_count": 7,
   "metadata": {},
   "outputs": [],
   "source": [
    "def remove_bot_spam(df):\n",
    "    \n",
    "    df = df[df[\"clean_text\"].str.contains('giveaway|giveaways|give away|give aways|airdrop|airdrops')==False] ## remove tweets with spam words\n",
    "\n",
    "    df = df[df[\"author_description\"].str.contains('giveaway|giveaways|give away|give aways|airdrop|airdrops|track|tracking|bot|tweet|whale|whales|follow|daily')==False] ## remove account with spam or bot words in description \n",
    "\n",
    "    df = df[df[\"clean_text\"].str.contains('pump|register|join|retweet|retweets')==False] ## remove tweet with bot words\n",
    "      \n",
    "    df = df[~df.username.str.contains(username_includes)] ## remove tweets with username including the word bot\n",
    "\n",
    "    df = df[df.author_followers >= max_followers] #Cut of accounts with less than minimum allowed followers\n",
    "\n",
    "    df = df[df.count_hashtag < max_hashtag]     #Cut of tweets with more than maximum allowed hastags\n",
    "\n",
    "    df = df[df.count_dollar < max_dollar_sign]  #Cut of tweets with more than maximum allowed dollar_signs\n",
    "\n",
    "    df =  df.groupby('username').filter(lambda x: len(x) < 44) #filter dataframe by users with less than 99 percentile amount of tweets\n",
    "\n",
    "    df = df.drop_duplicates(subset=['text'], keep=False)\n",
    "\n",
    "    df = df.reset_index()\n",
    "\n",
    "    return df"
   ]
  },
  {
   "cell_type": "code",
   "execution_count": 8,
   "metadata": {},
   "outputs": [],
   "source": [
    "def cleanText(text):\n",
    "    \"\"\" lower rext \"\"\"    \n",
    "    text = text.lower() \n",
    "\n",
    "    \"\"\" replace whitespace\"\"\"\n",
    "    text = text.replace('\\n', ' ')\n",
    "    \n",
    "    \"\"\" remove dollar sign\"\"\"\n",
    "    text = text.replace(\"$\", \"\")\n",
    "    \n",
    "    \"\"\" remove Hastag\"\"\"\n",
    "    text = re.sub(r'#([^\\s]+)', r'\\1', text) \n",
    "\n",
    "    \"\"\" Remove unicode\"\"\"\n",
    "    text = re.sub(r'(\\\\u[0-9A-Fa-f]+)',r'', text)     \n",
    "\n",
    "    \"\"\"Remove unicode \"\"\"\n",
    "    text = re.sub(r'[^\\x00-\\x7f]',r'',text)  \n",
    "\n",
    "    \"\"\" Replaces \"@user\" with \"atUser\" \"\"\"\n",
    "    text = re.sub('@[^\\s]+','atUser',text)\n",
    "\n",
    "    \"\"\" Replaces repetitions of exlamation marks \"\"\"\n",
    "    text = re.sub(r\"(\\!)\\1+\", ' multiExclamation ', text)\n",
    "\n",
    "    \"\"\" Replaces repetitions of question marks \"\"\"\n",
    "    text = re.sub(r\"(\\?)\\1+\", ' multiQuestion ', text)\n",
    "\n",
    "    \"\"\" Replaces repetitions of stop marks \"\"\"\n",
    "    text = re.sub(r\"(\\.)\\1+\", ' multiStop ', text)\n",
    "\n",
    "    return text"
   ]
  },
  {
   "cell_type": "code",
   "execution_count": 9,
   "metadata": {},
   "outputs": [],
   "source": [
    "def clean_author_description(text):\n",
    "    text = str(text)\n",
    "    text = text.lower()\n",
    "    text = text.replace(\"$\", \"\")\n",
    "    text = re.sub(r'#([^\\s]+)', r'\\1', text) \n",
    "\n",
    "    return text\n"
   ]
  },
  {
   "cell_type": "code",
   "execution_count": 10,
   "metadata": {},
   "outputs": [],
   "source": [
    "def sentiment_analyzer_scores(df):\n",
    "    scores = analyser.polarity_scores(df)\n",
    "    neg = scores['neg']\n",
    "    neu = scores['neu']\n",
    "    pos = scores['pos']\n",
    "    comp = scores['compound']\n",
    "    return neg, neu, pos, comp"
   ]
  },
  {
   "cell_type": "code",
   "execution_count": 11,
   "metadata": {},
   "outputs": [],
   "source": [
    "def update_df(df):\n",
    "    df['Date'] = pd.to_datetime(df['created_at']).dt.date\n",
    "    df_btc['count_tweet']  = 1\n",
    "    df = df[['text', 'Date', 'clean_text', 'count_tweet']]\n",
    "    df = df.copy()\n",
    "    return df"
   ]
  },
  {
   "cell_type": "code",
   "execution_count": 12,
   "metadata": {},
   "outputs": [],
   "source": [
    "def sentiment_analyzer_scores(df):\n",
    "    scores = analyser.polarity_scores(df)\n",
    "    neg = scores['neg']\n",
    "    neu = scores['neu']\n",
    "    pos = scores['pos']\n",
    "    comp = scores['compound']\n",
    "    return neg, neu, pos, comp"
   ]
  },
  {
   "cell_type": "code",
   "execution_count": 13,
   "metadata": {},
   "outputs": [],
   "source": [
    "df_btc['clean_text'] = df_btc['text'].apply(cleanText)"
   ]
  },
  {
   "cell_type": "code",
   "execution_count": 14,
   "metadata": {},
   "outputs": [],
   "source": [
    "df_btc = remove_bot_spam(df_btc)"
   ]
  },
  {
   "cell_type": "code",
   "execution_count": 15,
   "metadata": {},
   "outputs": [],
   "source": [
    "df_btc['author_description'] = df_btc['author_description'].apply(clean_author_description)"
   ]
  },
  {
   "cell_type": "code",
   "execution_count": 16,
   "metadata": {},
   "outputs": [],
   "source": [
    "test_df = update_df(df_btc)"
   ]
  },
  {
   "cell_type": "code",
   "execution_count": 17,
   "metadata": {},
   "outputs": [],
   "source": [
    "\"\"\" Read price data and merge with sentiment dataframes \"\"\"\n",
    "\n",
    "\"\"\" process economic uncertainty data \"\"\"\n",
    "df_teu = pd.read_excel(\"Twitter_Economic_Uncertainty.xlsx\") # read twitter uncertainty data\n",
    "df_teu.rename(columns= {\"date\": 'Date'}, inplace=True)\n",
    "df_teu['Date'] = df_teu['Date'].dt.date\n",
    "\n",
    "\"\"\" Process btc price data\"\"\"\n",
    "btc_price = pd.read_csv(\"BTC-USD.csv\") # read price data\n",
    "btc_price['Date'] = pd.to_datetime(btc_price['Date']).dt.date #change datetime column\n",
    "btc_price = btc_price.merge(df_teu, on = 'Date') #merge uncertainty measures with price data\n",
    "\n",
    "\"\"\" Apply sentiment analysis and process df\"\"\"\n",
    "applied_df = test_df.apply(lambda row: sentiment_analyzer_scores(row.clean_text), axis='columns', result_type='expand') #apply sentiment analyizer and store in seperate df\n",
    "test = pd.concat([test_df, applied_df], axis='columns') #concat dataframes\n",
    "test.rename(columns = {0:'neg', 1:'neu', 2:'pos', 3:'comp'}, inplace = True) #rename columns\n",
    "test = test.groupby(test_df['Date']).mean() # Take mean daily scores of input variables\n",
    "\n",
    "\"\"\" Tweets per day \"\"\"\n",
    "tweets = test_df.groupby(\"Date\")['count_tweet'].sum()\n",
    "test = test.merge(tweets, on = 'Date')\n",
    "\n",
    "\n",
    "\"\"\" Merge into final dataset \"\"\"\n",
    "df = test.merge(btc_price, on='Date') #merge both dataframes together\n",
    "df.rename(columns = {'count_tweet_y':'count_tweet'}, inplace = True) #rename columns\n",
    "df = df.drop('count_tweet_x', axis=1)\n",
    "# df = df.drop(['snapped_at', 'market_cap', 'total_volume'], axis=1)"
   ]
  },
  {
   "cell_type": "code",
   "execution_count": 18,
   "metadata": {},
   "outputs": [
    {
     "data": {
      "image/png": "[encoded data removed]",
      "text/plain": [
       "<Figure size 432x288 with 1 Axes>"
      ]
     },
     "metadata": {
      "needs_background": "light"
     },
     "output_type": "display_data"
    }
   ],
   "source": [
    "import matplotlib.pyplot as plt\n",
    "\n",
    "def plot_histogram(x):\n",
    "    plt.hist(x, bins = 19, alpha=0.8, color = 'gray', edgecolor = 'black')\n",
    "    plt.title(\"Histogram frequency compound score\")\n",
    "    plt.xlabel(\"Value\")\n",
    "    plt.ylabel(\"Frequency\")\n",
    "\n",
    "plot_histogram(applied_df.iloc[:, 3])"
   ]
  },
  {
   "cell_type": "code",
   "execution_count": 19,
   "metadata": {},
   "outputs": [
    {
     "data": {
      "image/png": "[encoded data removed]",
      "text/plain": [
       "<Figure size 432x288 with 1 Axes>"
      ]
     },
     "metadata": {
      "needs_background": "light"
     },
     "output_type": "display_data"
    }
   ],
   "source": [
    "def plot_histogram(x):\n",
    "    plt.hist(x, bins = 19, alpha=0.8, color = 'gray', edgecolor = 'black')\n",
    "    plt.title(\"Histogram daily compound score\")\n",
    "    plt.xlabel(\"Value\")\n",
    "    plt.ylabel(\"Frequency\")\n",
    "\n",
    "plot_histogram(df['comp'])"
   ]
  },
  {
   "cell_type": "code",
   "execution_count": 20,
   "metadata": {},
   "outputs": [],
   "source": [
    "df.to_csv('last_dataset.csv')"
   ]
  }
 ],
 "metadata": {
  "interpreter": {
   "hash": "74e620220840c601afa4d4277adbed9cdbd3a0a924eef247965b793822833f9e"
  },
  "kernelspec": {
   "display_name": "Python 3.9.7 ('base')",
   "language": "python",
   "name": "python3"
  },
  "language_info": {
   "codemirror_mode": {
    "name": "ipython",
    "version": 3
   },
   "file_extension": ".py",
   "mimetype": "text/x-python",
   "name": "python",
   "nbconvert_exporter": "python",
   "pygments_lexer": "ipython3",
   "version": "3.9.7"
  },
  "orig_nbformat": 4
 },
 "nbformat": 4,
 "nbformat_minor": 2
}
